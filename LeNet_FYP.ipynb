{
  "nbformat": 4,
  "nbformat_minor": 0,
  "metadata": {
    "colab": {
      "name": "Copy of FYP.ipynb",
      "provenance": [],
      "collapsed_sections": [],
      "include_colab_link": true
    },
    "kernelspec": {
      "display_name": "Python 3",
      "name": "python3"
    },
    "accelerator": "GPU"
  },
  "cells": [
    {
      "cell_type": "markdown",
      "metadata": {
        "id": "view-in-github",
        "colab_type": "text"
      },
      "source": [
        "<a href=\"https://colab.research.google.com/github/Ali-Bhatti/myRepos/blob/master/LeNet_FYP.ipynb\" target=\"_parent\"><img src=\"https://colab.research.google.com/assets/colab-badge.svg\" alt=\"Open In Colab\"/></a>"
      ]
    },
    {
      "cell_type": "code",
      "metadata": {
        "id": "zbsXlhZK4DzL"
      },
      "source": [
        ""
      ],
      "execution_count": 123,
      "outputs": []
    },
    {
      "cell_type": "markdown",
      "metadata": {
        "id": "owTxwa0aBTyG"
      },
      "source": [
        "Mounting  Google Drive"
      ]
    },
    {
      "cell_type": "code",
      "metadata": {
        "colab": {
          "base_uri": "https://localhost:8080/"
        },
        "id": "acL_eT6O5XPA",
        "outputId": "0321f7a0-bbbd-45cc-9dc3-f6147ca14bf9"
      },
      "source": [
        "from google.colab import drive\n",
        "drive.mount('/content/drive/')"
      ],
      "execution_count": 124,
      "outputs": [
        {
          "output_type": "stream",
          "text": [
            "Drive already mounted at /content/drive/; to attempt to forcibly remount, call drive.mount(\"/content/drive/\", force_remount=True).\n"
          ],
          "name": "stdout"
        }
      ]
    },
    {
      "cell_type": "code",
      "metadata": {
        "id": "rDWrNEfZBRrq"
      },
      "source": [
        "import numpy as np\n",
        "from matplotlib import pyplot as plt\n",
        "import h5py\n",
        "import cv2\n",
        "#from PIL import Image"
      ],
      "execution_count": 125,
      "outputs": []
    },
    {
      "cell_type": "code",
      "metadata": {
        "id": "SQ1IIA-mPOFE"
      },
      "source": [
        "Xtrain = np.ndarray(shape = (1864,32,32)) #1564 + 500 + 1000\n",
        "Ytrain = np.zeros(1864)\n",
        "\n",
        "Xval = np.ndarray(shape = (500,32,32)) #1564 + 500 + 1000\n",
        "Yval = np.zeros(500)\n",
        "\n",
        "Xtest = np.ndarray(shape = (1200,32,32)) #1564 + 500 + 1000\n",
        "Ytest = np.zeros(1200)\n",
        "\n",
        "train_count = 0\n",
        "test_count= 0\n",
        "val_count = 0"
      ],
      "execution_count": 126,
      "outputs": []
    },
    {
      "cell_type": "code",
      "metadata": {
        "id": "hdDW3JhZDUAc"
      },
      "source": [
        "i = 1\n",
        "while i <3065: \n",
        "    if test_count < 500:\n",
        "        if i < 767:\n",
        "          path = '/content/drive/MyDrive/TUMOR DATASET/tumor1.zip (Unzipped Files)/'\n",
        "        elif i < 1533:\n",
        "          path = '/content/drive/MyDrive/TUMOR DATASET/tumor3.zip (Unzipped Files)/'\n",
        "        elif i < 2299:\n",
        "          path = '/content/drive/MyDrive/TUMOR DATASET/tumor2.zip (Unzipped Files)/'\n",
        "        else:\n",
        "          path = '/content/drive/MyDrive/TUMOR DATASET/tumor4.zip (Unzipped Files)/'\n",
        "\n",
        "        f = h5py.File(path+str(i)+'.mat','r')\n",
        "        gr = f.get('cjdata')\n",
        "        im = np.array(gr.get('image'))\n",
        "        norm_image = cv2.normalize(im, None, alpha=0, beta=1, norm_type=cv2.NORM_MINMAX, dtype=cv2.CV_32F) #for normalizing the images of dataset\n",
        "        norm_image = cv2.resize(norm_image, (32,32), interpolation = cv2.INTER_AREA)\n",
        "\n",
        "        XVal[test_count] = np.array(norm_image)\n",
        "        YVal[test_count] = gr.get('label')[()]\n",
        "        test_count +=1\n",
        "        i+=1  \n",
        "    if train_count < 1864:\n",
        "        if i < 767:\n",
        "          path = '/content/drive/MyDrive/TUMOR DATASET/tumor1.zip (Unzipped Files)/'\n",
        "        elif i < 1533:\n",
        "          path = '/content/drive/MyDrive/TUMOR DATASET/tumor3.zip (Unzipped Files)/'\n",
        "        elif i < 2299:\n",
        "          path = '/content/drive/MyDrive/TUMOR DATASET/tumor2.zip (Unzipped Files)/'\n",
        "        else:\n",
        "          path = '/content/drive/MyDrive/TUMOR DATASET/tumor4.zip (Unzipped Files)/'\n",
        "\n",
        "        f = h5py.File(path+str(i)+'.mat','r')\n",
        "        gr = f.get('cjdata')\n",
        "        im = np.array(gr.get('image'))\n",
        "        norm_image = cv2.normalize(im, None, alpha=0, beta=1, norm_type=cv2.NORM_MINMAX, dtype=cv2.CV_32F) #for normalizing the images of dataset\n",
        "        norm_image = cv2.resize(norm_image, (32,32), interpolation = cv2.INTER_AREA)\n",
        "        Xtrain[train_count] = np.array(norm_image)\n",
        "        Ytrain[train_count] = gr.get('label')[()]\n",
        "        train_count +=1\n",
        "        i+=1\n",
        "\n",
        "    if test_count < 1200:\n",
        "        if i < 767:\n",
        "          path = '/content/drive/MyDrive/TUMOR DATASET/tumor1.zip (Unzipped Files)/'\n",
        "        elif i < 1533:\n",
        "          path = '/content/drive/MyDrive/TUMOR DATASET/tumor3.zip (Unzipped Files)/'\n",
        "        elif i < 2299:\n",
        "          path = '/content/drive/MyDrive/TUMOR DATASET/tumor2.zip (Unzipped Files)/'\n",
        "        else:\n",
        "          path = '/content/drive/MyDrive/TUMOR DATASET/tumor4.zip (Unzipped Files)/'\n",
        "\n",
        "        f = h5py.File(path+str(i)+'.mat','r')\n",
        "        gr = f.get('cjdata')\n",
        "        im = np.array(gr.get('image'))\n",
        "        norm_image = cv2.normalize(im, None, alpha=0, beta=1, norm_type=cv2.NORM_MINMAX, dtype=cv2.CV_32F) #for normalizing the images of dataset\n",
        "        norm_image = cv2.resize(norm_image, (32,32), interpolation = cv2.INTER_AREA)\n",
        "\n",
        "        Xtest[test_count] = np.array(norm_image)\n",
        "        Ytest[test_count] = gr.get('label')[()]\n",
        "        test_count +=1\n",
        "        i+=1\n",
        "   \n",
        "    print(i)\n",
        "\n",
        "#    print(np.max(norm_image))\n",
        "#    plt.imshow(norm_image, cmap=\"gray\") \n",
        "#  plt.show()\n",
        "#    print((gr.get('label')[()])) #cjdata.label: 1 for meningioma, 2 for glioma, 3 for pituitary tumor"
      ],
      "execution_count": null,
      "outputs": []
    },
    {
      "cell_type": "code",
      "metadata": {
        "id": "Fpnv1gstEC2O"
      },
      "source": [
        "#a,b,c = 0,0,0\n",
        "#for i in range(0,500):\n",
        "#  if Yval[i] == 1:\n",
        "#    a+=1\n",
        "#  elif Yval[i] == 2:\n",
        "#    b+=1\n",
        "#  elif Yval[i] == 3:\n",
        "#    c+=1\n",
        "#print(a,b,c)"
      ],
      "execution_count": 128,
      "outputs": []
    },
    {
      "cell_type": "code",
      "metadata": {
        "id": "Po40edYNNra9",
        "colab": {
          "base_uri": "https://localhost:8080/"
        },
        "outputId": "8064d4ab-a07d-419e-8fd6-0c328043945a"
      },
      "source": [
        "a,b,c = 0,0,0\n",
        "for i in range(0,1864):\n",
        "  if Ytrain[i] == 1:\n",
        "    a+=1\n",
        "  elif Ytrain[i] == 2:\n",
        "    b+=1\n",
        "  elif Ytrain[i] == 3:\n",
        "    c+=1\n",
        "print(a,b,c)"
      ],
      "execution_count": 129,
      "outputs": [
        {
          "output_type": "stream",
          "text": [
            "355 1044 465\n"
          ],
          "name": "stdout"
        }
      ]
    },
    {
      "cell_type": "code",
      "metadata": {
        "colab": {
          "base_uri": "https://localhost:8080/"
        },
        "id": "I4lCcHPqy_N1",
        "outputId": "9d616f29-3da2-4f11-e586-2284e52284d8"
      },
      "source": [
        "a,b,c = 0,0,0\n",
        "for i in range(0,1200):\n",
        "  if Ytest[i] == 1:\n",
        "    a+=1\n",
        "  elif Ytest[i] == 2:\n",
        "    b+=1\n",
        "  elif Ytest[i] == 3:\n",
        "    c+=1\n",
        "print(a,b,c)"
      ],
      "execution_count": 130,
      "outputs": [
        {
          "output_type": "stream",
          "text": [
            "353 382 465\n"
          ],
          "name": "stdout"
        }
      ]
    },
    {
      "cell_type": "markdown",
      "metadata": {
        "id": "_DwmTIRYD2Vg"
      },
      "source": [
        "Reshaping data"
      ]
    },
    {
      "cell_type": "code",
      "metadata": {
        "id": "7p0hNEkZD2sv",
        "colab": {
          "base_uri": "https://localhost:8080/"
        },
        "outputId": "30a73e37-3bdf-4c64-e839-08445db03e72"
      },
      "source": [
        "Xtrain = Xtrain.reshape(Xtrain.shape[0],32,32,1)\n",
        "#Xval = Xval.reshape(Xval.shape[0],32,32,1)\n",
        "Xtest = Xtest.reshape(Xtest.shape[0],32,32,1)\n",
        "\n",
        "Ytrain = Ytrain-1\n",
        "#Yval = Yval - 1\n",
        "Ytest = Ytest - 1\n",
        "\n",
        "print(Ytrain.shape)\n",
        "print(Ytrain)"
      ],
      "execution_count": 131,
      "outputs": [
        {
          "output_type": "stream",
          "text": [
            "(1864,)\n",
            "[0. 0. 0. ... 1. 0. 0.]\n"
          ],
          "name": "stdout"
        }
      ]
    },
    {
      "cell_type": "markdown",
      "metadata": {
        "id": "K8VhLSALD3NR"
      },
      "source": [
        "Importing Tensorflow"
      ]
    },
    {
      "cell_type": "code",
      "metadata": {
        "id": "z5Tzv14RFfu6"
      },
      "source": [
        "import tensorflow as tf"
      ],
      "execution_count": 132,
      "outputs": []
    },
    {
      "cell_type": "code",
      "metadata": {
        "id": "wJkd2KBKzOjr"
      },
      "source": [
        "\n",
        "# build a sequential model\n",
        "\n",
        "\n",
        "cnnmodel = tf.keras.Sequential([\n",
        "      tf.keras.layers.Conv2D(6,(5,5),input_shape=(32,32,1),strides=(1,1),activation='tanh', padding=\"same\"),\n",
        "      tf.keras.layers.AveragePooling2D(pool_size=(2, 2), strides=(2, 2), padding='valid'),\n",
        "\n",
        "      tf.keras.layers.Conv2D(16,(5,5),strides=(1,1),activation='tanh', padding='valid'),\n",
        "      tf.keras.layers.AveragePooling2D(pool_size=(2, 2), strides=(2, 2), padding='valid'),\n",
        "\n",
        "      tf.keras.layers.Flatten(),\n",
        "      tf.keras.layers.Dense(120, activation='tanh'),\n",
        "      tf.keras.layers.Dense(84, activation='tanh'),\n",
        "      tf.keras.layers.Dense(3, activation='softmax')\n",
        "\n",
        "])"
      ],
      "execution_count": 133,
      "outputs": []
    },
    {
      "cell_type": "code",
      "metadata": {
        "id": "Dwua5rcTLGx4",
        "colab": {
          "base_uri": "https://localhost:8080/"
        },
        "outputId": "87a4716c-1f48-441a-f64a-4d2d614f4220"
      },
      "source": [
        "#0 for meningioma, 1 for glioma, 2 for pituitary tumor\n",
        "cn = ['meningioma','glioma', 'pituitary']\n",
        "cnnmodel.summary()"
      ],
      "execution_count": 137,
      "outputs": [
        {
          "output_type": "stream",
          "text": [
            "Model: \"sequential_5\"\n",
            "_________________________________________________________________\n",
            "Layer (type)                 Output Shape              Param #   \n",
            "=================================================================\n",
            "conv2d_22 (Conv2D)           (None, 32, 32, 6)         156       \n",
            "_________________________________________________________________\n",
            "average_pooling2d_22 (Averag (None, 16, 16, 6)         0         \n",
            "_________________________________________________________________\n",
            "conv2d_23 (Conv2D)           (None, 12, 12, 16)        2416      \n",
            "_________________________________________________________________\n",
            "average_pooling2d_23 (Averag (None, 6, 6, 16)          0         \n",
            "_________________________________________________________________\n",
            "flatten_11 (Flatten)         (None, 576)               0         \n",
            "_________________________________________________________________\n",
            "dense_33 (Dense)             (None, 120)               69240     \n",
            "_________________________________________________________________\n",
            "dense_34 (Dense)             (None, 84)                10164     \n",
            "_________________________________________________________________\n",
            "dense_35 (Dense)             (None, 3)                 255       \n",
            "=================================================================\n",
            "Total params: 82,231\n",
            "Trainable params: 82,231\n",
            "Non-trainable params: 0\n",
            "_________________________________________________________________\n"
          ],
          "name": "stdout"
        }
      ]
    },
    {
      "cell_type": "markdown",
      "metadata": {
        "id": "hL03GTH97H3a"
      },
      "source": [
        ""
      ]
    },
    {
      "cell_type": "code",
      "metadata": {
        "id": "OvjyYM8uZ9A2"
      },
      "source": [
        "# to shuffle the data\r\n",
        "from sklearn.utils import shuffle\r\n",
        "Xtrain, Ytrain = shuffle(Xtrain, Ytrain)"
      ],
      "execution_count": 138,
      "outputs": []
    },
    {
      "cell_type": "code",
      "metadata": {
        "id": "hzQujK_5fcuS"
      },
      "source": [
        "# log_dir=\"logs/fit/\" + datetime.datetime.now().strftime(\"%Y%m%d-%H%M%S\")\r\n",
        "# # Specify the callback object\r\n",
        "# tensorboard_callback = tf.keras.callbacks.TensorBoard(log_dir=log_dir, histogram_freq=1)"
      ],
      "execution_count": 139,
      "outputs": []
    },
    {
      "cell_type": "code",
      "metadata": {
        "colab": {
          "base_uri": "https://localhost:8080/"
        },
        "id": "45kTRS6ef0iR",
        "outputId": "3250abf8-a160-484b-cdae-38bf4838d13b"
      },
      "source": [
        "print(Ytrain)"
      ],
      "execution_count": 140,
      "outputs": [
        {
          "output_type": "stream",
          "text": [
            "[1. 0. 0. ... 1. 1. 1.]\n"
          ],
          "name": "stdout"
        }
      ]
    },
    {
      "cell_type": "code",
      "metadata": {
        "colab": {
          "base_uri": "https://localhost:8080/"
        },
        "id": "RM_Gyq620Alb",
        "outputId": "438c1e2a-b6fe-4db0-9eb9-12d1a640e8cc"
      },
      "source": [
        "# compile model\n",
        "cnnmodel.compile(loss='categorical_crossentropy', optimizer=\"adam\", metrics=['accuracy'])\n",
        "# fit on data for 30 epochs\n",
        "history = cnnmodel.fit(Xtrain, tf.keras.utils.to_categorical(Ytrain),epochs=30, validation_split=0.33, batch_size=10)"
      ],
      "execution_count": 168,
      "outputs": [
        {
          "output_type": "stream",
          "text": [
            "Epoch 1/30\n",
            "125/125 [==============================] - 1s 5ms/step - loss: 0.0158 - accuracy: 0.9960 - val_loss: 0.6562 - val_accuracy: 0.8701\n",
            "Epoch 2/30\n",
            "125/125 [==============================] - 1s 5ms/step - loss: 0.0113 - accuracy: 0.9979 - val_loss: 0.6418 - val_accuracy: 0.8718\n",
            "Epoch 3/30\n",
            "125/125 [==============================] - 1s 4ms/step - loss: 0.0131 - accuracy: 0.9973 - val_loss: 0.7036 - val_accuracy: 0.8377\n",
            "Epoch 4/30\n",
            "125/125 [==============================] - 1s 5ms/step - loss: 0.0275 - accuracy: 0.9924 - val_loss: 0.6996 - val_accuracy: 0.8523\n",
            "Epoch 5/30\n",
            "125/125 [==============================] - 1s 4ms/step - loss: 0.0517 - accuracy: 0.9816 - val_loss: 0.7388 - val_accuracy: 0.8523\n",
            "Epoch 6/30\n",
            "125/125 [==============================] - 1s 4ms/step - loss: 0.0222 - accuracy: 0.9936 - val_loss: 0.7182 - val_accuracy: 0.8555\n",
            "Epoch 7/30\n",
            "125/125 [==============================] - 1s 4ms/step - loss: 0.0236 - accuracy: 0.9878 - val_loss: 0.6954 - val_accuracy: 0.8604\n",
            "Epoch 8/30\n",
            "125/125 [==============================] - 1s 5ms/step - loss: 0.0050 - accuracy: 1.0000 - val_loss: 0.6730 - val_accuracy: 0.8604\n",
            "Epoch 9/30\n",
            "125/125 [==============================] - 1s 4ms/step - loss: 0.0017 - accuracy: 1.0000 - val_loss: 0.6767 - val_accuracy: 0.8636\n",
            "Epoch 10/30\n",
            "125/125 [==============================] - 1s 4ms/step - loss: 0.0015 - accuracy: 1.0000 - val_loss: 0.6811 - val_accuracy: 0.8636\n",
            "Epoch 11/30\n",
            "125/125 [==============================] - 1s 4ms/step - loss: 0.0013 - accuracy: 1.0000 - val_loss: 0.6836 - val_accuracy: 0.8669\n",
            "Epoch 12/30\n",
            "125/125 [==============================] - 1s 4ms/step - loss: 0.0013 - accuracy: 1.0000 - val_loss: 0.6835 - val_accuracy: 0.8669\n",
            "Epoch 13/30\n",
            "125/125 [==============================] - 1s 4ms/step - loss: 9.6415e-04 - accuracy: 1.0000 - val_loss: 0.6953 - val_accuracy: 0.8669\n",
            "Epoch 14/30\n",
            "125/125 [==============================] - 1s 5ms/step - loss: 9.1438e-04 - accuracy: 1.0000 - val_loss: 0.6984 - val_accuracy: 0.8669\n",
            "Epoch 15/30\n",
            "125/125 [==============================] - 1s 4ms/step - loss: 8.3111e-04 - accuracy: 1.0000 - val_loss: 0.6966 - val_accuracy: 0.8669\n",
            "Epoch 16/30\n",
            "125/125 [==============================] - 1s 5ms/step - loss: 6.6373e-04 - accuracy: 1.0000 - val_loss: 0.7067 - val_accuracy: 0.8669\n",
            "Epoch 17/30\n",
            "125/125 [==============================] - 1s 5ms/step - loss: 6.3330e-04 - accuracy: 1.0000 - val_loss: 0.7085 - val_accuracy: 0.8669\n",
            "Epoch 18/30\n",
            "125/125 [==============================] - 1s 5ms/step - loss: 6.0036e-04 - accuracy: 1.0000 - val_loss: 0.7184 - val_accuracy: 0.8718\n",
            "Epoch 19/30\n",
            "125/125 [==============================] - 1s 4ms/step - loss: 5.7619e-04 - accuracy: 1.0000 - val_loss: 0.7241 - val_accuracy: 0.8685\n",
            "Epoch 20/30\n",
            "125/125 [==============================] - 1s 5ms/step - loss: 5.4456e-04 - accuracy: 1.0000 - val_loss: 0.7271 - val_accuracy: 0.8701\n",
            "Epoch 21/30\n",
            "125/125 [==============================] - 1s 5ms/step - loss: 4.4048e-04 - accuracy: 1.0000 - val_loss: 0.7371 - val_accuracy: 0.8718\n",
            "Epoch 22/30\n",
            "125/125 [==============================] - 1s 5ms/step - loss: 4.3774e-04 - accuracy: 1.0000 - val_loss: 0.7365 - val_accuracy: 0.8718\n",
            "Epoch 23/30\n",
            "125/125 [==============================] - 1s 4ms/step - loss: 4.4572e-04 - accuracy: 1.0000 - val_loss: 0.7385 - val_accuracy: 0.8701\n",
            "Epoch 24/30\n",
            "125/125 [==============================] - 1s 4ms/step - loss: 3.9041e-04 - accuracy: 1.0000 - val_loss: 0.7452 - val_accuracy: 0.8701\n",
            "Epoch 25/30\n",
            "125/125 [==============================] - 1s 5ms/step - loss: 3.7337e-04 - accuracy: 1.0000 - val_loss: 0.7563 - val_accuracy: 0.8718\n",
            "Epoch 26/30\n",
            "125/125 [==============================] - 1s 5ms/step - loss: 3.6158e-04 - accuracy: 1.0000 - val_loss: 0.7582 - val_accuracy: 0.8718\n",
            "Epoch 27/30\n",
            "125/125 [==============================] - 1s 5ms/step - loss: 3.5694e-04 - accuracy: 1.0000 - val_loss: 0.7632 - val_accuracy: 0.8718\n",
            "Epoch 28/30\n",
            "125/125 [==============================] - 1s 5ms/step - loss: 2.7550e-04 - accuracy: 1.0000 - val_loss: 0.7696 - val_accuracy: 0.8734\n",
            "Epoch 29/30\n",
            "125/125 [==============================] - 1s 4ms/step - loss: 2.5472e-04 - accuracy: 1.0000 - val_loss: 0.7724 - val_accuracy: 0.8718\n",
            "Epoch 30/30\n",
            "125/125 [==============================] - 1s 5ms/step - loss: 2.2366e-04 - accuracy: 1.0000 - val_loss: 0.7796 - val_accuracy: 0.8734\n"
          ],
          "name": "stdout"
        }
      ]
    },
    {
      "cell_type": "code",
      "metadata": {
        "id": "SyvgpNj8Pub7",
        "colab": {
          "base_uri": "https://localhost:8080/"
        },
        "outputId": "2d8f3cbd-64e1-431f-fdc2-ea460b2a4598"
      },
      "source": [
        "tf.keras.utils.to_categorical(Ytrain).shape"
      ],
      "execution_count": 169,
      "outputs": [
        {
          "output_type": "execute_result",
          "data": {
            "text/plain": [
              "(1864, 3)"
            ]
          },
          "metadata": {
            "tags": []
          },
          "execution_count": 169
        }
      ]
    },
    {
      "cell_type": "code",
      "metadata": {
        "id": "KHPFBPnfRWtg",
        "colab": {
          "base_uri": "https://localhost:8080/"
        },
        "outputId": "1f34a15e-9f65-48db-d495-0cef58f48804"
      },
      "source": [
        "np.unique(Ytrain)"
      ],
      "execution_count": 170,
      "outputs": [
        {
          "output_type": "execute_result",
          "data": {
            "text/plain": [
              "array([0., 1., 2.])"
            ]
          },
          "metadata": {
            "tags": []
          },
          "execution_count": 170
        }
      ]
    },
    {
      "cell_type": "code",
      "metadata": {
        "id": "Fbz3fxbmRlhR"
      },
      "source": [
        "y_pred = cnnmodel.predict(Xtest)"
      ],
      "execution_count": 171,
      "outputs": []
    },
    {
      "cell_type": "code",
      "metadata": {
        "id": "Ekveg1O1WjyR"
      },
      "source": [
        "\n",
        "prediction = tf.math.argmax(y_pred, axis=1)\n",
        "equality = tf.math.equal(prediction, Ytest)\n",
        "accuracy = tf.math.reduce_mean(tf.cast(equality, tf.float32))"
      ],
      "execution_count": 172,
      "outputs": []
    },
    {
      "cell_type": "code",
      "metadata": {
        "id": "BGSQVSxqWt2Z",
        "colab": {
          "base_uri": "https://localhost:8080/"
        },
        "outputId": "20d4b71a-eee8-40dd-b181-14e43a787696"
      },
      "source": [
        "print(accuracy)"
      ],
      "execution_count": 173,
      "outputs": [
        {
          "output_type": "stream",
          "text": [
            "tf.Tensor(0.895, shape=(), dtype=float32)\n"
          ],
          "name": "stdout"
        }
      ]
    },
    {
      "cell_type": "code",
      "metadata": {
        "id": "WjQ2ZqRyYMQA",
        "colab": {
          "base_uri": "https://localhost:8080/",
          "height": 35
        },
        "outputId": "24cf7430-5399-4325-b451-8428bd8c71a8"
      },
      "source": [
        "cn[np.argmax(y_pred[140])]"
      ],
      "execution_count": 174,
      "outputs": [
        {
          "output_type": "execute_result",
          "data": {
            "application/vnd.google.colaboratory.intrinsic+json": {
              "type": "string"
            },
            "text/plain": [
              "'meningioma'"
            ]
          },
          "metadata": {
            "tags": []
          },
          "execution_count": 174
        }
      ]
    },
    {
      "cell_type": "code",
      "metadata": {
        "id": "vZuRijouYM7-",
        "colab": {
          "base_uri": "https://localhost:8080/"
        },
        "outputId": "8bae24b1-f041-4508-ae3b-9d25880b73a2"
      },
      "source": [
        "# list all data in history\r\n",
        "print(history.history.keys())"
      ],
      "execution_count": 175,
      "outputs": [
        {
          "output_type": "stream",
          "text": [
            "dict_keys(['loss', 'accuracy', 'val_loss', 'val_accuracy'])\n"
          ],
          "name": "stdout"
        }
      ]
    },
    {
      "cell_type": "code",
      "metadata": {
        "id": "m7tHnq-mYCJS",
        "colab": {
          "base_uri": "https://localhost:8080/",
          "height": 573
        },
        "outputId": "aeda52c2-9536-425c-88d9-79ba3827741a"
      },
      "source": [
        "# summarize history for accuracy\r\n",
        "plt.plot(history.history['accuracy'])\r\n",
        "plt.plot(history.history['val_accuracy'])\r\n",
        "plt.title('model accuracy')\r\n",
        "plt.ylabel('accuracy')\r\n",
        "plt.xlabel('epoch')\r\n",
        "plt.legend(['train', 'test'], loc='upper left')\r\n",
        "plt.show()\r\n",
        "# summarize history for loss\r\n",
        "plt.plot(history.history['loss'])\r\n",
        "plt.plot(history.history['val_loss'])\r\n",
        "plt.title('model loss')\r\n",
        "plt.ylabel('loss')\r\n",
        "plt.xlabel('epoch')\r\n",
        "plt.legend(['train', 'test'], loc='upper left')\r\n",
        "plt.show()"
      ],
      "execution_count": 176,
      "outputs": [
        {
          "output_type": "display_data",
          "data": {
            "image/png": "[encoded data removed]",
            "text/plain": [
              "<Figure size 432x288 with 1 Axes>"
            ]
          },
          "metadata": {
            "tags": [],
            "needs_background": "light"
          }
        },
        {
          "output_type": "display_data",
          "data": {
            "image/png": "[encoded data removed]",
            "text/plain": [
              "<Figure size 432x288 with 1 Axes>"
            ]
          },
          "metadata": {
            "tags": [],
            "needs_background": "light"
          }
        }
      ]
    },
    {
      "cell_type": "code",
      "metadata": {
        "id": "I9GVHNG9ir3b"
      },
      "source": [
        "# retrieve weights from the second hidden layer\r\n",
        "# filters = cnnmodel.layers[0].get_config()\r\n",
        "# print(filters)\r\n",
        "# for i in range(3):\r\n",
        "#   b = cnnmodel.layers[i].count_params()\r\n",
        "#   print(b)\r\n"
      ],
      "execution_count": 150,
      "outputs": []
    },
    {
      "cell_type": "code",
      "metadata": {
        "id": "h4UC53t5zE59"
      },
      "source": [
        "# layer_names = [layer.name for layer in cnnmodel.layers]\r\n",
        "# layer_names\r\n",
        "\r\n",
        "# layer_outputs = [layer.output for layer in cnnmodel.layers]\r\n",
        "# layer_outputs"
      ],
      "execution_count": 151,
      "outputs": []
    },
    {
      "cell_type": "code",
      "metadata": {
        "id": "70t0uGeeei3o"
      },
      "source": [
        "\r\n",
        "# model = tf.keras.models.Model(inputs=cnnmodel.inputs, outputs=cnnmodel.layers[1].output)\r\n",
        "# model.summary()"
      ],
      "execution_count": 152,
      "outputs": []
    },
    {
      "cell_type": "code",
      "metadata": {
        "id": "J6mW4xf7r6do"
      },
      "source": [
        "# img = np.expand_dims(Xtest[40], axis=0)\r\n",
        "# #Xtest[40].shape\r\n",
        "# feature_maps = model.predict(img)"
      ],
      "execution_count": 153,
      "outputs": []
    },
    {
      "cell_type": "code",
      "metadata": {
        "id": "ToPYfx1er_CM"
      },
      "source": [
        "# plot all 64 maps in an 8x8 squares\r\n",
        "# square = 8\r\n",
        "# ix = 1\r\n",
        "# for _ in range(square):\r\n",
        "# \tfor _ in range(4):\r\n",
        "# \t\t# specify subplot and turn of axis\r\n",
        "# \t\tax = plt.subplot(square, square, ix)\r\n",
        "# \t\tax.set_xticks([])\r\n",
        "# \t\tax.set_yticks([])\r\n",
        "# \t\t# plot filter channel in grayscale\r\n",
        "# \t\tplt.imshow(feature_maps[0, :, :, ix-1], cmap='gray')\r\n",
        "# \t\tix += 1\r\n",
        "# # show the figure\r\n",
        "# plt.show()"
      ],
      "execution_count": 154,
      "outputs": []
    },
    {
      "cell_type": "code",
      "metadata": {
        "colab": {
          "base_uri": "https://localhost:8080/"
        },
        "id": "MBadaE7vsqkS",
        "outputId": "290aaabb-4118-43ea-ebef-029562ceee0d"
      },
      "source": [
        "for layer in cnnmodel.layers:\r\n",
        "    if 'conv' in layer.name:\r\n",
        "      print(layer.name)"
      ],
      "execution_count": 155,
      "outputs": [
        {
          "output_type": "stream",
          "text": [
            "conv2d_22\n",
            "conv2d_23\n"
          ],
          "name": "stdout"
        }
      ]
    },
    {
      "cell_type": "code",
      "metadata": {
        "id": "ICkcvmHMv96j"
      },
      "source": [
        "def displayfmaps(imagex):\r\n",
        "  img = np.expand_dims(imagex, axis=0)\r\n",
        "  for xlayer in cnnmodel.layers:\r\n",
        "    if 'conv' not in xlayer.name:\r\n",
        "      continue\r\n",
        "    model = tf.keras.models.Model(inputs=cnnmodel.inputs, outputs=xlayer.output)\r\n",
        "    feature_maps = model.predict(img)\r\n",
        "    square = 8\r\n",
        "    ix = 1\r\n",
        "    for _ in range(square):\r\n",
        "      for _ in range(4):\r\n",
        "        if(feature_maps[:,:,:].shape > (100,)):\r\n",
        "          ix +=50\r\n",
        "      # specify subplot and turn of axis\r\n",
        "        ax = plt.subplot(square, 10, ix)\r\n",
        "        ax.set_xticks([])\r\n",
        "        ax.set_yticks([])\r\n",
        "        # plot filter channel in grayscale\r\n",
        "        plt.imshow(feature_maps[0, :, :, ix-1], cmap='gray')\r\n",
        "        ix += 1\r\n",
        "  # show the figure\r\n",
        "    plt.show()"
      ],
      "execution_count": 156,
      "outputs": []
    },
    {
      "cell_type": "code",
      "metadata": {
        "id": "rm_iG2kQwC5o"
      },
      "source": [
        "#displaying Features (Function Call)\r\n",
        "#displayfmaps(Xtest[150])"
      ],
      "execution_count": 157,
      "outputs": []
    }
  ]
}